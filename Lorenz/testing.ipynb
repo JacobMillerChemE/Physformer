{
 "cells": [
  {
   "cell_type": "code",
   "execution_count": 6,
   "metadata": {},
   "outputs": [],
   "source": [
    "import os\n",
    "import torch\n",
    "from packages.utils.function_library import load_config, model_initializer\n",
    "from torch.utils.data import DataLoader\n",
    "from packages.data import LorenzDataSet"
   ]
  },
  {
   "cell_type": "code",
   "execution_count": 7,
   "metadata": {},
   "outputs": [
    {
     "name": "stderr",
     "output_type": "stream",
     "text": [
      "Parsing dataset: 100%|██████████| 2100/2100 [00:11<00:00, 185.94it/s]\n",
      "Parsing dataset: 100%|██████████| 300/300 [00:03<00:00, 98.94it/s] \n"
     ]
    }
   ],
   "source": [
    "tuning_title = \"test1\"\n",
    "CONFIG_PATH = f\"packages/configs/{tuning_title}.yaml\"\n",
    "config = load_config(CONFIG_PATH)\n",
    "\n",
    "# Define absolute paths to data sets\n",
    "training_dir = os.path.abspath(\"packages/data/training_data\")\n",
    "testing_dir = os.path.abspath(\"packages/data/test_data\")\n",
    "\n",
    "# Create training and validation sets for training \n",
    "training_dataset = LorenzDataSet(training_dir, config)\n",
    "testing_dataset = LorenzDataSet(testing_dir, \n",
    "                                config,\n",
    "                                scalar_dict=training_dataset.scalar_dict)\n",
    "\n",
    "# Create dataloaders for testing\n",
    "testing_loader = DataLoader(testing_dataset, batch_size=config[\"batch_size\"])"
   ]
  },
  {
   "cell_type": "code",
   "execution_count": 8,
   "metadata": {},
   "outputs": [
    {
     "data": {
      "text/plain": [
       "<All keys matched successfully>"
      ]
     },
     "execution_count": 8,
     "metadata": {},
     "output_type": "execute_result"
    }
   ],
   "source": [
    "from packages.networks import base_model\n",
    "dict_name = f\"{tuning_title}.pth\"\n",
    "\n",
    "dict_file = os.path.join(\"packages/tuning\", tuning_title, dict_name)\n",
    "\n",
    "# Check to see if cuda is available\n",
    "device = torch.device(\"cuda\" if torch.cuda.is_available() else \"cpu\")\n",
    "\n",
    "mask = torch.ones(config[\"block_size\"], config[\"block_size\"], requires_grad=False).tril().to(device)\n",
    "#Create model, optimizer and loss function\n",
    "model = model_initializer(config, mask)\n",
    "model = model.to(device)\n",
    "model.load_state_dict(torch.load(\"packages/tuning/test1/test1.pth\"))"
   ]
  },
  {
   "cell_type": "code",
   "execution_count": 10,
   "metadata": {},
   "outputs": [
    {
     "data": {
      "text/plain": [
       "<mpl_toolkits.mplot3d.art3d.Path3DCollection at 0x1d8b8f8cc40>"
      ]
     },
     "execution_count": 10,
     "metadata": {},
     "output_type": "execute_result"
    }
   ],
   "source": [
    "import matplotlib.pyplot as plt\n",
    "from mpl_toolkits.mplot3d import Axes3D\n",
    "%matplotlib qt\n",
    "\n",
    "\n",
    "sim_length = int(config[\"t_test\"] * 100)\n",
    "CL = config[\"block_size\"]\n",
    "seq_count = sim_length - CL\n",
    "sim_num = 100\n",
    "\n",
    "true = testing_dataset.raw_data[:, :, sim_num]\n",
    "preds = torch.zeros_like(torch.from_numpy(true))\n",
    "sequences = testing_dataset.features[seq_count*sim_num:seq_count*sim_num+seq_count, :, :]\n",
    "\n",
    "\n",
    "for i in range(sequences.shape[0]):\n",
    "    pred = model(torch.from_numpy(sequences[i, :, :])[None, :, :].float())\n",
    "    preds[:, i+1:i+1+CL] = pred[0, :, :].T\n",
    "\n",
    "\n",
    "preds = preds.detach().numpy()\n",
    "    \n",
    "\n",
    "\n",
    "fig = plt.figure()\n",
    "ax = fig.add_subplot(1, 1, 1, projection='3d')\n",
    "ax.scatter(true[0, 1:], true[1, 1:], true[2, 1:], alpha=0.25)\n",
    "ax.scatter(preds[0, 1:], preds[1, 1:], preds[2, 1:], marker='+', c='red', s=5)\n",
    "\n",
    "# ax.set_title(\"Ground Truth\")\n",
    "\n",
    "# ax = fig.add_subplot(1, 2, 2, projection='3d')\n",
    "# ax.scatter(preds[0, 1:], preds[1, 1:], preds[2, 1:])\n",
    "# ax.set_title(\"Physformer\")"
   ]
  },
  {
   "cell_type": "code",
   "execution_count": 22,
   "metadata": {},
   "outputs": [
    {
     "data": {
      "text/html": [
       "<div>\n",
       "<style scoped>\n",
       "    .dataframe tbody tr th:only-of-type {\n",
       "        vertical-align: middle;\n",
       "    }\n",
       "\n",
       "    .dataframe tbody tr th {\n",
       "        vertical-align: top;\n",
       "    }\n",
       "\n",
       "    .dataframe thead th {\n",
       "        text-align: right;\n",
       "    }\n",
       "</style>\n",
       "<table border=\"1\" class=\"dataframe\">\n",
       "  <thead>\n",
       "    <tr style=\"text-align: right;\">\n",
       "      <th></th>\n",
       "      <th>Concentration</th>\n",
       "      <th>Flow time</th>\n",
       "    </tr>\n",
       "    <tr>\n",
       "      <th>Time Step</th>\n",
       "      <th></th>\n",
       "      <th></th>\n",
       "    </tr>\n",
       "  </thead>\n",
       "  <tbody>\n",
       "    <tr>\n",
       "      <th>0</th>\n",
       "      <td>0.000000</td>\n",
       "      <td>0.0000</td>\n",
       "    </tr>\n",
       "    <tr>\n",
       "      <th>1</th>\n",
       "      <td>0.000000</td>\n",
       "      <td>0.0001</td>\n",
       "    </tr>\n",
       "    <tr>\n",
       "      <th>2</th>\n",
       "      <td>0.000000</td>\n",
       "      <td>0.0002</td>\n",
       "    </tr>\n",
       "    <tr>\n",
       "      <th>3</th>\n",
       "      <td>0.000000</td>\n",
       "      <td>0.0003</td>\n",
       "    </tr>\n",
       "    <tr>\n",
       "      <th>4</th>\n",
       "      <td>0.000000</td>\n",
       "      <td>0.0004</td>\n",
       "    </tr>\n",
       "    <tr>\n",
       "      <th>...</th>\n",
       "      <td>...</td>\n",
       "      <td>...</td>\n",
       "    </tr>\n",
       "    <tr>\n",
       "      <th>3997</th>\n",
       "      <td>0.000021</td>\n",
       "      <td>0.3997</td>\n",
       "    </tr>\n",
       "    <tr>\n",
       "      <th>3998</th>\n",
       "      <td>0.000021</td>\n",
       "      <td>0.3998</td>\n",
       "    </tr>\n",
       "    <tr>\n",
       "      <th>3999</th>\n",
       "      <td>0.000021</td>\n",
       "      <td>0.3999</td>\n",
       "    </tr>\n",
       "    <tr>\n",
       "      <th>4000</th>\n",
       "      <td>0.000021</td>\n",
       "      <td>0.4000</td>\n",
       "    </tr>\n",
       "    <tr>\n",
       "      <th>4001</th>\n",
       "      <td>0.000021</td>\n",
       "      <td>0.4001</td>\n",
       "    </tr>\n",
       "  </tbody>\n",
       "</table>\n",
       "<p>4002 rows × 2 columns</p>\n",
       "</div>"
      ],
      "text/plain": [
       "           Concentration  Flow time\n",
       "Time Step                          \n",
       "0               0.000000     0.0000\n",
       "1               0.000000     0.0001\n",
       "2               0.000000     0.0002\n",
       "3               0.000000     0.0003\n",
       "4               0.000000     0.0004\n",
       "...                  ...        ...\n",
       "3997            0.000021     0.3997\n",
       "3998            0.000021     0.3998\n",
       "3999            0.000021     0.3999\n",
       "4000            0.000021     0.4000\n",
       "4001            0.000021     0.4001\n",
       "\n",
       "[4002 rows x 2 columns]"
      ]
     },
     "execution_count": 22,
     "metadata": {},
     "output_type": "execute_result"
    }
   ],
   "source": [
    "import pandas as pd\n",
    "import numpy as np\n",
    "\n",
    "df = pd.read_csv(r\"C:\\Users\\jacob\\Downloads\\concentration-rfile.out.csv\", index_col=0)\n",
    "df"
   ]
  },
  {
   "cell_type": "code",
   "execution_count": 23,
   "metadata": {},
   "outputs": [
    {
     "name": "stdout",
     "output_type": "stream",
     "text": [
      "Time Step\n",
      "0       0.000000\n",
      "1       0.000000\n",
      "2       0.000000\n",
      "3       0.000000\n",
      "4       0.000000\n",
      "          ...   \n",
      "3997    0.220995\n",
      "3998    0.219947\n",
      "3999    0.218900\n",
      "4000    0.217853\n",
      "4001    0.216805\n",
      "Name: Concentration, Length: 4002, dtype: float64\n",
      "0.17468163714962\n"
     ]
    }
   ],
   "source": [
    "from scipy.integrate import simpson\n",
    "\n",
    "integrand = simpson(df['Concentration'], df['Flow time'])\n",
    "E_t = df[\"Concentration\"]/integrand\n",
    "print(E_t)\n",
    "tE_t = df['Flow time']*E_t\n",
    "\n",
    "mean_RT = simpson(tE_t, df['Flow time'])\n",
    "print(mean_RT)"
   ]
  },
  {
   "cell_type": "code",
   "execution_count": 29,
   "metadata": {},
   "outputs": [
    {
     "data": {
      "image/png": "[encoded data removed]",
      "text/plain": [
       "<Figure size 640x480 with 1 Axes>"
      ]
     },
     "metadata": {},
     "output_type": "display_data"
    }
   ],
   "source": [
    "import matplotlib.pyplot as plt\n",
    "plt.figure()\n",
    "plt.plot(df['Flow time'], E_t, label='E_t')\n",
    "plt.plot([0.2083, 0.2083], [0, 29], label='Space time')\n",
    "plt.plot([mean_RT, mean_RT], [0, 29], label='Mean Residence Time')\n",
    "plt.xlabel('Flow time')\n",
    "plt.ylabel('E_t')\n",
    "plt.legend()\n",
    "plt.show()\n"
   ]
  },
  {
   "cell_type": "code",
   "execution_count": null,
   "metadata": {},
   "outputs": [],
   "source": []
  }
 ],
 "metadata": {
  "kernelspec": {
   "display_name": "pytorch",
   "language": "python",
   "name": "python3"
  },
  "language_info": {
   "codemirror_mode": {
    "name": "ipython",
    "version": 3
   },
   "file_extension": ".py",
   "mimetype": "text/x-python",
   "name": "python",
   "nbconvert_exporter": "python",
   "pygments_lexer": "ipython3",
   "version": "3.9.13"
  },
  "orig_nbformat": 4
 },
 "nbformat": 4,
 "nbformat_minor": 2
}
